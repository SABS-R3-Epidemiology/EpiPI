{
 "cells": [
  {
   "cell_type": "markdown",
   "metadata": {},
   "source": [
    "## Setup"
   ]
  },
  {
   "cell_type": "code",
   "execution_count": 29,
   "metadata": {},
   "outputs": [],
   "source": [
    "import pandas as pd\n",
    "import epipi\n",
    "import matplotlib.pyplot as plt\n",
    "import arviz as az\n",
    "import numpy as np\n",
    "import branchpro\n",
    "import scipy.stats\n",
    "from branchpro.apps import ReproductionNumberPlot\n",
    "import plotly.graph_objs as go\n",
    "\n",
    "# Data Preparation\n",
    "omega = pd.read_csv('./PCR_curve_summary.csv')['median'].values\n",
    "omega_pos_list = np.arange(1, 31) * 10\n",
    "omega = omega[omega_pos_list]\n",
    "theta = pd.read_csv('../EpiOS/y_interpolated.csv')['y_interpolated'].values\n",
    "theta_true = pd.read_csv('../EpiOS/true_infection.csv')['True'].values\n",
    "theta = theta_true\n",
    "incidences_true = pd.read_csv('../EpiOS/incidences_true.csv')['incidences_true'].values"
   ]
  },
  {
   "cell_type": "markdown",
   "metadata": {},
   "source": [
    "## Use PyStan with kernel at the end of time sample"
   ]
  },
  {
   "cell_type": "code",
   "execution_count": null,
   "metadata": {},
   "outputs": [],
   "source": [
    "prior = []\n",
    "for i in range(len(theta)):\n",
    "    prior.append(epipi.NormalPrior(1000, 200))\n",
    "prior.append(epipi.NormalPrior(0, 1))"
   ]
  },
  {
   "cell_type": "code",
   "execution_count": 30,
   "metadata": {},
   "outputs": [
    {
     "name": "stdout",
     "output_type": "stream",
     "text": [
      "Building...\n"
     ]
    },
    {
     "name": "stderr",
     "output_type": "stream",
     "text": [
      "\n",
      "Building: found in cache, done.Messages from stanc:\n",
      "Warning in '/var/folders/5q/gy5_gx0s17j9qlczj9knlfwm0000gn/T/httpstan_md5574m4/model_kvyygi43.stan', line 49, column 28: Argument\n",
      "    1700 suggests there may be parameters that are not unit scale; consider\n",
      "    rescaling with a multiplier (see manual section 22.12).\n",
      "Warning in '/var/folders/5q/gy5_gx0s17j9qlczj9knlfwm0000gn/T/httpstan_md5574m4/model_kvyygi43.stan', line 49, column 22: Argument\n",
      "    5000 suggests there may be parameters that are not unit scale; consider\n",
      "    rescaling with a multiplier (see manual section 22.12).\n",
      "Sampling:   0%\n",
      "Sampling:   0% (1/8000)\n",
      "Sampling:   0% (2/8000)\n",
      "Sampling:   0% (3/8000)\n",
      "Sampling:   0% (4/8000)\n",
      "Sampling:   1% (103/8000)\n",
      "Sampling:   3% (202/8000)\n",
      "Sampling:   4% (301/8000)\n",
      "Sampling:   5% (400/8000)\n",
      "Sampling:   6% (500/8000)\n",
      "Sampling:   8% (600/8000)\n",
      "Sampling:   9% (700/8000)\n",
      "Sampling:  10% (800/8000)\n",
      "Sampling:  11% (900/8000)\n",
      "Sampling:  12% (1000/8000)\n",
      "Sampling:  14% (1100/8000)\n",
      "Sampling:  16% (1300/8000)\n",
      "Sampling:  18% (1400/8000)\n",
      "Sampling:  19% (1500/8000)\n",
      "Sampling:  20% (1600/8000)\n",
      "Sampling:  21% (1700/8000)\n",
      "Sampling:  22% (1800/8000)\n",
      "Sampling:  25% (2000/8000)\n",
      "Sampling:  26% (2100/8000)\n",
      "Sampling:  28% (2200/8000)\n",
      "Sampling:  29% (2300/8000)\n",
      "Sampling:  30% (2400/8000)\n",
      "Sampling:  32% (2600/8000)\n",
      "Sampling:  35% (2800/8000)\n",
      "Sampling:  38% (3000/8000)\n",
      "Sampling:  39% (3100/8000)\n",
      "Sampling:  55% (4400/8000)\n",
      "Sampling:  69% (5500/8000)\n",
      "Sampling:  85% (6800/8000)\n",
      "Sampling: 100% (8000/8000)\n",
      "Sampling: 100% (8000/8000), done.\n",
      "Messages received during sampling:\n",
      "  Gradient evaluation took 3.1e-05 seconds\n",
      "  1000 transitions using 10 leapfrog steps per transition would take 0.31 seconds.\n",
      "  Adjust your expectations accordingly!\n",
      "  Informational Message: The current Metropolis proposal is about to be rejected because of the following issue:\n",
      "  Exception: normal_lpdf: Location parameter is inf, but must be finite! (in '/var/folders/5q/gy5_gx0s17j9qlczj9knlfwm0000gn/T/httpstan_ac7mizf1/model_kvyygi43.stan', line 43, column 8 to line 45, column 52)\n",
      "  If this warning occurs sporadically, such as for highly constrained variable types like covariance matrices, then the sampler is fine,\n",
      "  but if this warning occurs often then your model may be either severely ill-conditioned or misspecified.\n",
      "  Informational Message: The current Metropolis proposal is about to be rejected because of the following issue:\n",
      "  Exception: normal_lpdf: Location parameter is inf, but must be finite! (in '/var/folders/5q/gy5_gx0s17j9qlczj9knlfwm0000gn/T/httpstan_ac7mizf1/model_kvyygi43.stan', line 43, column 8 to line 45, column 52)\n",
      "  If this warning occurs sporadically, such as for highly constrained variable types like covariance matrices, then the sampler is fine,\n",
      "  but if this warning occurs often then your model may be either severely ill-conditioned or misspecified.\n",
      "  Informational Message: The current Metropolis proposal is about to be rejected because of the following issue:\n",
      "  Exception: normal_lpdf: Location parameter is inf, but must be finite! (in '/var/folders/5q/gy5_gx0s17j9qlczj9knlfwm0000gn/T/httpstan_ac7mizf1/model_kvyygi43.stan', line 43, column 8 to line 45, column 52)\n",
      "  If this warning occurs sporadically, such as for highly constrained variable types like covariance matrices, then the sampler is fine,\n",
      "  but if this warning occurs often then your model may be either severely ill-conditioned or misspecified.\n",
      "  Informational Message: The current Metropolis proposal is about to be rejected because of the following issue:\n",
      "  Exception: normal_lpdf: Location parameter is inf, but must be finite! (in '/var/folders/5q/gy5_gx0s17j9qlczj9knlfwm0000gn/T/httpstan_ac7mizf1/model_kvyygi43.stan', line 43, column 8 to line 45, column 52)\n",
      "  If this warning occurs sporadically, such as for highly constrained variable types like covariance matrices, then the sampler is fine,\n",
      "  but if this warning occurs often then your model may be either severely ill-conditioned or misspecified.\n",
      "  Informational Message: The current Metropolis proposal is about to be rejected because of the following issue:\n",
      "  Exception: normal_lpdf: Location parameter is inf, but must be finite! (in '/var/folders/5q/gy5_gx0s17j9qlczj9knlfwm0000gn/T/httpstan_ac7mizf1/model_kvyygi43.stan', line 43, column 8 to line 45, column 52)\n",
      "  If this warning occurs sporadically, such as for highly constrained variable types like covariance matrices, then the sampler is fine,\n",
      "  but if this warning occurs often then your model may be either severely ill-conditioned or misspecified.\n",
      "  Informational Message: The current Metropolis proposal is about to be rejected because of the following issue:\n",
      "  Exception: normal_lpdf: Location parameter is inf, but must be finite! (in '/var/folders/5q/gy5_gx0s17j9qlczj9knlfwm0000gn/T/httpstan_ac7mizf1/model_kvyygi43.stan', line 43, column 8 to line 45, column 52)\n",
      "  If this warning occurs sporadically, such as for highly constrained variable types like covariance matrices, then the sampler is fine,\n",
      "  but if this warning occurs often then your model may be either severely ill-conditioned or misspecified.\n",
      "  Informational Message: The current Metropolis proposal is about to be rejected because of the following issue:\n",
      "  Exception: normal_lpdf: Location parameter is inf, but must be finite! (in '/var/folders/5q/gy5_gx0s17j9qlczj9knlfwm0000gn/T/httpstan_ac7mizf1/model_kvyygi43.stan', line 43, column 8 to line 45, column 52)\n",
      "  If this warning occurs sporadically, such as for highly constrained variable types like covariance matrices, then the sampler is fine,\n",
      "  but if this warning occurs often then your model may be either severely ill-conditioned or misspecified.\n",
      "  Informational Message: The current Metropolis proposal is about to be rejected because of the following issue:\n",
      "  Exception: normal_lpdf: Location parameter is inf, but must be finite! (in '/var/folders/5q/gy5_gx0s17j9qlczj9knlfwm0000gn/T/httpstan_ac7mizf1/model_kvyygi43.stan', line 43, column 8 to line 45, column 52)\n",
      "  If this warning occurs sporadically, such as for highly constrained variable types like covariance matrices, then the sampler is fine,\n",
      "  but if this warning occurs often then your model may be either severely ill-conditioned or misspecified.\n",
      "  Informational Message: The current Metropolis proposal is about to be rejected because of the following issue:\n",
      "  Exception: normal_lpdf: Location parameter is inf, but must be finite! (in '/var/folders/5q/gy5_gx0s17j9qlczj9knlfwm0000gn/T/httpstan_ac7mizf1/model_kvyygi43.stan', line 43, column 8 to line 45, column 52)\n",
      "  If this warning occurs sporadically, such as for highly constrained variable types like covariance matrices, then the sampler is fine,\n",
      "  but if this warning occurs often then your model may be either severely ill-conditioned or misspecified.\n",
      "  Gradient evaluation took 2.7e-05 seconds\n",
      "  1000 transitions using 10 leapfrog steps per transition would take 0.27 seconds.\n",
      "  Adjust your expectations accordingly!\n",
      "  Informational Message: The current Metropolis proposal is about to be rejected because of the following issue:\n",
      "  Exception: normal_lpdf: Location parameter is inf, but must be finite! (in '/var/folders/5q/gy5_gx0s17j9qlczj9knlfwm0000gn/T/httpstan_ac7mizf1/model_kvyygi43.stan', line 43, column 8 to line 45, column 52)\n",
      "  If this warning occurs sporadically, such as for highly constrained variable types like covariance matrices, then the sampler is fine,\n",
      "  but if this warning occurs often then your model may be either severely ill-conditioned or misspecified.\n",
      "  Informational Message: The current Metropolis proposal is about to be rejected because of the following issue:\n",
      "  Exception: normal_lpdf: Location parameter is inf, but must be finite! (in '/var/folders/5q/gy5_gx0s17j9qlczj9knlfwm0000gn/T/httpstan_ac7mizf1/model_kvyygi43.stan', line 43, column 8 to line 45, column 52)\n",
      "  If this warning occurs sporadically, such as for highly constrained variable types like covariance matrices, then the sampler is fine,\n",
      "  but if this warning occurs often then your model may be either severely ill-conditioned or misspecified.\n",
      "  Informational Message: The current Metropolis proposal is about to be rejected because of the following issue:\n",
      "  Exception: normal_lpdf: Location parameter is inf, but must be finite! (in '/var/folders/5q/gy5_gx0s17j9qlczj9knlfwm0000gn/T/httpstan_ac7mizf1/model_kvyygi43.stan', line 43, column 8 to line 45, column 52)\n",
      "  If this warning occurs sporadically, such as for highly constrained variable types like covariance matrices, then the sampler is fine,\n",
      "  but if this warning occurs often then your model may be either severely ill-conditioned or misspecified.\n",
      "  Informational Message: The current Metropolis proposal is about to be rejected because of the following issue:\n",
      "  Exception: normal_lpdf: Location parameter is inf, but must be finite! (in '/var/folders/5q/gy5_gx0s17j9qlczj9knlfwm0000gn/T/httpstan_ac7mizf1/model_kvyygi43.stan', line 43, column 8 to line 45, column 52)\n",
      "  If this warning occurs sporadically, such as for highly constrained variable types like covariance matrices, then the sampler is fine,\n",
      "  but if this warning occurs often then your model may be either severely ill-conditioned or misspecified.\n",
      "  Informational Message: The current Metropolis proposal is about to be rejected because of the following issue:\n",
      "  Exception: normal_lpdf: Location parameter is inf, but must be finite! (in '/var/folders/5q/gy5_gx0s17j9qlczj9knlfwm0000gn/T/httpstan_ac7mizf1/model_kvyygi43.stan', line 43, column 8 to line 45, column 52)\n",
      "  If this warning occurs sporadically, such as for highly constrained variable types like covariance matrices, then the sampler is fine,\n",
      "  but if this warning occurs often then your model may be either severely ill-conditioned or misspecified.\n",
      "  Informational Message: The current Metropolis proposal is about to be rejected because of the following issue:\n",
      "  Exception: normal_lpdf: Location parameter is inf, but must be finite! (in '/var/folders/5q/gy5_gx0s17j9qlczj9knlfwm0000gn/T/httpstan_ac7mizf1/model_kvyygi43.stan', line 43, column 8 to line 45, column 52)\n",
      "  If this warning occurs sporadically, such as for highly constrained variable types like covariance matrices, then the sampler is fine,\n",
      "  but if this warning occurs often then your model may be either severely ill-conditioned or misspecified.\n",
      "  Gradient evaluation took 2.1e-05 seconds\n",
      "  1000 transitions using 10 leapfrog steps per transition would take 0.21 seconds.\n",
      "  Adjust your expectations accordingly!\n",
      "  Informational Message: The current Metropolis proposal is about to be rejected because of the following issue:\n",
      "  Exception: normal_lpdf: Location parameter is inf, but must be finite! (in '/var/folders/5q/gy5_gx0s17j9qlczj9knlfwm0000gn/T/httpstan_ac7mizf1/model_kvyygi43.stan', line 43, column 8 to line 45, column 52)\n",
      "  If this warning occurs sporadically, such as for highly constrained variable types like covariance matrices, then the sampler is fine,\n",
      "  but if this warning occurs often then your model may be either severely ill-conditioned or misspecified.\n",
      "  Informational Message: The current Metropolis proposal is about to be rejected because of the following issue:\n",
      "  Exception: normal_lpdf: Location parameter is inf, but must be finite! (in '/var/folders/5q/gy5_gx0s17j9qlczj9knlfwm0000gn/T/httpstan_ac7mizf1/model_kvyygi43.stan', line 43, column 8 to line 45, column 52)\n",
      "  If this warning occurs sporadically, such as for highly constrained variable types like covariance matrices, then the sampler is fine,\n",
      "  but if this warning occurs often then your model may be either severely ill-conditioned or misspecified.\n",
      "  Informational Message: The current Metropolis proposal is about to be rejected because of the following issue:\n",
      "  Exception: normal_lpdf: Location parameter is inf, but must be finite! (in '/var/folders/5q/gy5_gx0s17j9qlczj9knlfwm0000gn/T/httpstan_ac7mizf1/model_kvyygi43.stan', line 43, column 8 to line 45, column 52)\n",
      "  If this warning occurs sporadically, such as for highly constrained variable types like covariance matrices, then the sampler is fine,\n",
      "  but if this warning occurs often then your model may be either severely ill-conditioned or misspecified.\n",
      "  Informational Message: The current Metropolis proposal is about to be rejected because of the following issue:\n",
      "  Exception: normal_lpdf: Location parameter is inf, but must be finite! (in '/var/folders/5q/gy5_gx0s17j9qlczj9knlfwm0000gn/T/httpstan_ac7mizf1/model_kvyygi43.stan', line 43, column 8 to line 45, column 52)\n",
      "  If this warning occurs sporadically, such as for highly constrained variable types like covariance matrices, then the sampler is fine,\n",
      "  but if this warning occurs often then your model may be either severely ill-conditioned or misspecified.\n",
      "  Informational Message: The current Metropolis proposal is about to be rejected because of the following issue:\n",
      "  Exception: normal_lpdf: Location parameter is inf, but must be finite! (in '/var/folders/5q/gy5_gx0s17j9qlczj9knlfwm0000gn/T/httpstan_ac7mizf1/model_kvyygi43.stan', line 43, column 8 to line 45, column 52)\n",
      "  If this warning occurs sporadically, such as for highly constrained variable types like covariance matrices, then the sampler is fine,\n",
      "  but if this warning occurs often then your model may be either severely ill-conditioned or misspecified.\n",
      "  Gradient evaluation took 2.1e-05 seconds\n",
      "  1000 transitions using 10 leapfrog steps per transition would take 0.21 seconds.\n",
      "  Adjust your expectations accordingly!\n",
      "  Informational Message: The current Metropolis proposal is about to be rejected because of the following issue:\n",
      "  Exception: normal_lpdf: Location parameter is inf, but must be finite! (in '/var/folders/5q/gy5_gx0s17j9qlczj9knlfwm0000gn/T/httpstan_ac7mizf1/model_kvyygi43.stan', line 43, column 8 to line 45, column 52)\n",
      "  If this warning occurs sporadically, such as for highly constrained variable types like covariance matrices, then the sampler is fine,\n",
      "  but if this warning occurs often then your model may be either severely ill-conditioned or misspecified.\n",
      "  Informational Message: The current Metropolis proposal is about to be rejected because of the following issue:\n",
      "  Exception: normal_lpdf: Location parameter is inf, but must be finite! (in '/var/folders/5q/gy5_gx0s17j9qlczj9knlfwm0000gn/T/httpstan_ac7mizf1/model_kvyygi43.stan', line 43, column 8 to line 45, column 52)\n",
      "  If this warning occurs sporadically, such as for highly constrained variable types like covariance matrices, then the sampler is fine,\n",
      "  but if this warning occurs often then your model may be either severely ill-conditioned or misspecified.\n",
      "  Informational Message: The current Metropolis proposal is about to be rejected because of the following issue:\n",
      "  Exception: normal_lpdf: Location parameter is inf, but must be finite! (in '/var/folders/5q/gy5_gx0s17j9qlczj9knlfwm0000gn/T/httpstan_ac7mizf1/model_kvyygi43.stan', line 43, column 8 to line 45, column 52)\n",
      "  If this warning occurs sporadically, such as for highly constrained variable types like covariance matrices, then the sampler is fine,\n",
      "  but if this warning occurs often then your model may be either severely ill-conditioned or misspecified.\n",
      "  Informational Message: The current Metropolis proposal is about to be rejected because of the following issue:\n",
      "  Exception: normal_lpdf: Location parameter is inf, but must be finite! (in '/var/folders/5q/gy5_gx0s17j9qlczj9knlfwm0000gn/T/httpstan_ac7mizf1/model_kvyygi43.stan', line 43, column 8 to line 45, column 52)\n",
      "  If this warning occurs sporadically, such as for highly constrained variable types like covariance matrices, then the sampler is fine,\n",
      "  but if this warning occurs often then your model may be either severely ill-conditioned or misspecified.\n",
      "  Informational Message: The current Metropolis proposal is about to be rejected because of the following issue:\n",
      "  Exception: normal_lpdf: Location parameter is inf, but must be finite! (in '/var/folders/5q/gy5_gx0s17j9qlczj9knlfwm0000gn/T/httpstan_ac7mizf1/model_kvyygi43.stan', line 43, column 8 to line 45, column 52)\n",
      "  If this warning occurs sporadically, such as for highly constrained variable types like covariance matrices, then the sampler is fine,\n",
      "  but if this warning occurs often then your model may be either severely ill-conditioned or misspecified.\n",
      "  Informational Message: The current Metropolis proposal is about to be rejected because of the following issue:\n",
      "  Exception: normal_lpdf: Location parameter is inf, but must be finite! (in '/var/folders/5q/gy5_gx0s17j9qlczj9knlfwm0000gn/T/httpstan_ac7mizf1/model_kvyygi43.stan', line 43, column 8 to line 45, column 52)\n",
      "  If this warning occurs sporadically, such as for highly constrained variable types like covariance matrices, then the sampler is fine,\n",
      "  but if this warning occurs often then your model may be either severely ill-conditioned or misspecified.\n"
     ]
    },
    {
     "data": {
      "text/html": [
       "<div>\n",
       "<style scoped>\n",
       "    .dataframe tbody tr th:only-of-type {\n",
       "        vertical-align: middle;\n",
       "    }\n",
       "\n",
       "    .dataframe tbody tr th {\n",
       "        vertical-align: top;\n",
       "    }\n",
       "\n",
       "    .dataframe thead th {\n",
       "        text-align: right;\n",
       "    }\n",
       "</style>\n",
       "<table border=\"1\" class=\"dataframe\">\n",
       "  <thead>\n",
       "    <tr style=\"text-align: right;\">\n",
       "      <th></th>\n",
       "      <th>mean</th>\n",
       "      <th>sd</th>\n",
       "      <th>hdi_3%</th>\n",
       "      <th>hdi_97%</th>\n",
       "      <th>mcse_mean</th>\n",
       "      <th>mcse_sd</th>\n",
       "      <th>ess_bulk</th>\n",
       "      <th>ess_tail</th>\n",
       "      <th>r_hat</th>\n",
       "    </tr>\n",
       "  </thead>\n",
       "  <tbody>\n",
       "    <tr>\n",
       "      <th>I[0]</th>\n",
       "      <td>193.398</td>\n",
       "      <td>14.563</td>\n",
       "      <td>164.641</td>\n",
       "      <td>218.298</td>\n",
       "      <td>0.204</td>\n",
       "      <td>0.144</td>\n",
       "      <td>5562.0</td>\n",
       "      <td>2818.0</td>\n",
       "      <td>1.0</td>\n",
       "    </tr>\n",
       "    <tr>\n",
       "      <th>I[1]</th>\n",
       "      <td>15.790</td>\n",
       "      <td>14.392</td>\n",
       "      <td>0.005</td>\n",
       "      <td>41.905</td>\n",
       "      <td>0.228</td>\n",
       "      <td>0.183</td>\n",
       "      <td>3933.0</td>\n",
       "      <td>2430.0</td>\n",
       "      <td>1.0</td>\n",
       "    </tr>\n",
       "    <tr>\n",
       "      <th>I[2]</th>\n",
       "      <td>30.347</td>\n",
       "      <td>22.033</td>\n",
       "      <td>0.011</td>\n",
       "      <td>68.510</td>\n",
       "      <td>0.331</td>\n",
       "      <td>0.238</td>\n",
       "      <td>3574.0</td>\n",
       "      <td>2216.0</td>\n",
       "      <td>1.0</td>\n",
       "    </tr>\n",
       "    <tr>\n",
       "      <th>I[3]</th>\n",
       "      <td>71.122</td>\n",
       "      <td>35.950</td>\n",
       "      <td>0.001</td>\n",
       "      <td>127.834</td>\n",
       "      <td>0.658</td>\n",
       "      <td>0.465</td>\n",
       "      <td>2447.0</td>\n",
       "      <td>1194.0</td>\n",
       "      <td>1.0</td>\n",
       "    </tr>\n",
       "    <tr>\n",
       "      <th>I[4]</th>\n",
       "      <td>95.831</td>\n",
       "      <td>43.277</td>\n",
       "      <td>12.383</td>\n",
       "      <td>170.265</td>\n",
       "      <td>0.765</td>\n",
       "      <td>0.541</td>\n",
       "      <td>3058.0</td>\n",
       "      <td>1575.0</td>\n",
       "      <td>1.0</td>\n",
       "    </tr>\n",
       "    <tr>\n",
       "      <th>...</th>\n",
       "      <td>...</td>\n",
       "      <td>...</td>\n",
       "      <td>...</td>\n",
       "      <td>...</td>\n",
       "      <td>...</td>\n",
       "      <td>...</td>\n",
       "      <td>...</td>\n",
       "      <td>...</td>\n",
       "      <td>...</td>\n",
       "    </tr>\n",
       "    <tr>\n",
       "      <th>I[78]</th>\n",
       "      <td>4.095</td>\n",
       "      <td>3.755</td>\n",
       "      <td>0.008</td>\n",
       "      <td>10.984</td>\n",
       "      <td>0.043</td>\n",
       "      <td>0.037</td>\n",
       "      <td>5172.0</td>\n",
       "      <td>2100.0</td>\n",
       "      <td>1.0</td>\n",
       "    </tr>\n",
       "    <tr>\n",
       "      <th>I[79]</th>\n",
       "      <td>4.580</td>\n",
       "      <td>4.146</td>\n",
       "      <td>0.003</td>\n",
       "      <td>12.221</td>\n",
       "      <td>0.052</td>\n",
       "      <td>0.047</td>\n",
       "      <td>5012.0</td>\n",
       "      <td>2323.0</td>\n",
       "      <td>1.0</td>\n",
       "    </tr>\n",
       "    <tr>\n",
       "      <th>I[80]</th>\n",
       "      <td>5.556</td>\n",
       "      <td>4.970</td>\n",
       "      <td>0.006</td>\n",
       "      <td>14.609</td>\n",
       "      <td>0.057</td>\n",
       "      <td>0.049</td>\n",
       "      <td>5344.0</td>\n",
       "      <td>2361.0</td>\n",
       "      <td>1.0</td>\n",
       "    </tr>\n",
       "    <tr>\n",
       "      <th>I[81]</th>\n",
       "      <td>8.685</td>\n",
       "      <td>7.469</td>\n",
       "      <td>0.003</td>\n",
       "      <td>21.952</td>\n",
       "      <td>0.090</td>\n",
       "      <td>0.073</td>\n",
       "      <td>4715.0</td>\n",
       "      <td>2502.0</td>\n",
       "      <td>1.0</td>\n",
       "    </tr>\n",
       "    <tr>\n",
       "      <th>sigma</th>\n",
       "      <td>11.676</td>\n",
       "      <td>0.483</td>\n",
       "      <td>10.782</td>\n",
       "      <td>12.571</td>\n",
       "      <td>0.006</td>\n",
       "      <td>0.004</td>\n",
       "      <td>6765.0</td>\n",
       "      <td>3019.0</td>\n",
       "      <td>1.0</td>\n",
       "    </tr>\n",
       "  </tbody>\n",
       "</table>\n",
       "<p>83 rows × 9 columns</p>\n",
       "</div>"
      ],
      "text/plain": [
       "          mean      sd   hdi_3%  hdi_97%  mcse_mean  mcse_sd  ess_bulk  \\\n",
       "I[0]   193.398  14.563  164.641  218.298      0.204    0.144    5562.0   \n",
       "I[1]    15.790  14.392    0.005   41.905      0.228    0.183    3933.0   \n",
       "I[2]    30.347  22.033    0.011   68.510      0.331    0.238    3574.0   \n",
       "I[3]    71.122  35.950    0.001  127.834      0.658    0.465    2447.0   \n",
       "I[4]    95.831  43.277   12.383  170.265      0.765    0.541    3058.0   \n",
       "...        ...     ...      ...      ...        ...      ...       ...   \n",
       "I[78]    4.095   3.755    0.008   10.984      0.043    0.037    5172.0   \n",
       "I[79]    4.580   4.146    0.003   12.221      0.052    0.047    5012.0   \n",
       "I[80]    5.556   4.970    0.006   14.609      0.057    0.049    5344.0   \n",
       "I[81]    8.685   7.469    0.003   21.952      0.090    0.073    4715.0   \n",
       "sigma   11.676   0.483   10.782   12.571      0.006    0.004    6765.0   \n",
       "\n",
       "       ess_tail  r_hat  \n",
       "I[0]     2818.0    1.0  \n",
       "I[1]     2430.0    1.0  \n",
       "I[2]     2216.0    1.0  \n",
       "I[3]     1194.0    1.0  \n",
       "I[4]     1575.0    1.0  \n",
       "...         ...    ...  \n",
       "I[78]    2100.0    1.0  \n",
       "I[79]    2323.0    1.0  \n",
       "I[80]    2361.0    1.0  \n",
       "I[81]    2502.0    1.0  \n",
       "sigma    3019.0    1.0  \n",
       "\n",
       "[83 rows x 9 columns]"
      ]
     },
     "execution_count": 30,
     "metadata": {},
     "output_type": "execute_result"
    }
   ],
   "source": [
    "# theta = theta_true\n",
    "kernel = [0, 0, 0]\n",
    "starting_time_point = 0\n",
    "end_time_point = len(theta)\n",
    "init_infection = 100\n",
    "controller = epipi.InferenceController(theta[starting_time_point:end_time_point], omega, kernel=kernel)\n",
    "fit, samples = controller.run()\n",
    "df = az.summary(samples)\n",
    "df"
   ]
  },
  {
   "cell_type": "code",
   "execution_count": 31,
   "metadata": {},
   "outputs": [
    {
     "name": "stdout",
     "output_type": "stream",
     "text": [
      "Mean R_hat is 1.0\n",
      "Std R_hat is 0.0\n"
     ]
    },
    {
     "data": {
      "image/png": "[encoded data removed]",
      "text/plain": [
       "<Figure size 1200x400 with 4 Axes>"
      ]
     },
     "metadata": {},
     "output_type": "display_data"
    }
   ],
   "source": [
    "az.plot_trace(samples)\n",
    "print('Mean R_hat is', df['r_hat'].values.mean())\n",
    "print('Std R_hat is', df['r_hat'].values.std())"
   ]
  },
  {
   "cell_type": "code",
   "execution_count": 32,
   "metadata": {},
   "outputs": [
    {
     "data": {
      "application/vnd.plotly.v1+json": {
       "config": {
        "plotlyServerURL": "https://plot.ly"
       },
       "data": [
        {
         "line": {
          "color": "indigo"
         },
         "mode": "lines",
         "name": "Estimated Incidences",
         "type": "scatter",
         "x": [
          0,
          1,
          2,
          3,
          4,
          5,
          6,
          7,
          8,
          9,
          10,
          11,
          12,
          13,
          14,
          15,
          16,
          17,
          18,
          19,
          20,
          21,
          22,
          23,
          24,
          25,
          26,
          27,
          28,
          29,
          30,
          31,
          32,
          33,
          34,
          35,
          36,
          37,
          38,
          39,
          40,
          41,
          42,
          43,
          44,
          45,
          46,
          47,
          48,
          49,
          50,
          51,
          52,
          53,
          54,
          55,
          56,
          57,
          58,
          59,
          60,
          61,
          62,
          63,
          64,
          65,
          66,
          67,
          68,
          69,
          70,
          71,
          72,
          73,
          74,
          75,
          76,
          77,
          78,
          79,
          80,
          81,
          82,
          83,
          84
         ],
         "y": [
          193.398,
          15.79,
          30.347,
          71.122,
          95.831,
          69.979,
          166.629,
          159.388,
          219.4,
          232.502,
          267.78,
          396.264,
          357.235,
          599.89,
          464.204,
          651.51,
          679.127,
          877.966,
          772.864,
          907.483,
          978.788,
          1026.639,
          1175.225,
          1078.136,
          1573.273,
          1282.855,
          1295.566,
          1304.944,
          1539.541,
          996.313,
          1553.423,
          982.151,
          1256.893,
          1036.74,
          914.424,
          880.999,
          900.154,
          793.238,
          523.839,
          798.585,
          653.058,
          407.923,
          441.214,
          282.925,
          436.898,
          146.321,
          265.719,
          85.476,
          240.496,
          83.072,
          200.356,
          59.275,
          100.253,
          98.186,
          116.575,
          47.472,
          55.248,
          52.214,
          41.501,
          69.425,
          35.857,
          14.577,
          11.308,
          12.248,
          14.418,
          15.907,
          14.216,
          12.136,
          8.724,
          6.747,
          5.509,
          4.545,
          3.909,
          3.389,
          3.082,
          3.175,
          3.303,
          3.691,
          4.095,
          4.58,
          5.556,
          8.685,
          0,
          0,
          0
         ]
        },
        {
         "fill": "toself",
         "fillcolor": "indigo",
         "line": {
          "color": "indigo"
         },
         "mode": "lines",
         "name": "Credible interval 0.95",
         "opacity": 0.5,
         "type": "scatter",
         "x": [
          0,
          1,
          2,
          3,
          4,
          5,
          6,
          7,
          8,
          9,
          10,
          11,
          12,
          13,
          14,
          15,
          16,
          17,
          18,
          19,
          20,
          21,
          22,
          23,
          24,
          25,
          26,
          27,
          28,
          29,
          30,
          31,
          32,
          33,
          34,
          35,
          36,
          37,
          38,
          39,
          40,
          41,
          42,
          43,
          44,
          45,
          46,
          47,
          48,
          49,
          50,
          51,
          52,
          53,
          54,
          55,
          56,
          57,
          58,
          59,
          60,
          61,
          62,
          63,
          64,
          65,
          66,
          67,
          68,
          69,
          70,
          71,
          72,
          73,
          74,
          75,
          76,
          77,
          78,
          79,
          80,
          81,
          82,
          83,
          84,
          84,
          83,
          82,
          81,
          80,
          79,
          78,
          77,
          76,
          75,
          74,
          73,
          72,
          71,
          70,
          69,
          68,
          67,
          66,
          65,
          64,
          63,
          62,
          61,
          60,
          59,
          58,
          57,
          56,
          55,
          54,
          53,
          52,
          51,
          50,
          49,
          48,
          47,
          46,
          45,
          44,
          43,
          42,
          41,
          40,
          39,
          38,
          37,
          36,
          35,
          34,
          33,
          32,
          31,
          30,
          29,
          28,
          27,
          26,
          25,
          24,
          23,
          22,
          21,
          20,
          19,
          18,
          17,
          16,
          15,
          14,
          13,
          12,
          11,
          10,
          9,
          8,
          7,
          6,
          5,
          4,
          3,
          2,
          1,
          0
         ],
         "y": [
          221.94148,
          43.99831999999999,
          73.53168,
          141.584,
          180.65392,
          153.86896000000002,
          266.17152,
          270.87868000000003,
          333.33480000000003,
          346.40936,
          382.20871999999997,
          508.80328,
          469.49792,
          713.43868,
          579.87536,
          768.2476,
          795.3099199999999,
          995.7247600000001,
          889.22724,
          1022.97208,
          1095.114,
          1143.0433999999998,
          1291.23544,
          1194.11508,
          1689.3206799999998,
          1400.78624,
          1413.14248,
          1419.79608,
          1653.46208,
          1110.4888799999999,
          1668.58868,
          1094.83924,
          1369.62436,
          1151.06288,
          1028.7018,
          994.3379600000001,
          1012.36596,
          906.5220800000001,
          639.13404,
          914.75224,
          768.20996,
          521.29332,
          553.12216,
          395.25456,
          551.8265200000001,
          258.825,
          371.43356,
          183.01932,
          336.12636,
          176.00736,
          289.42427999999995,
          137.94548,
          186.8066,
          193.14800000000002,
          203.74796,
          113.15944000000002,
          118.30904,
          111.58632,
          97.29043999999999,
          131.20224,
          80.89779999999999,
          37.32672,
          29.30668,
          31.199240000000003,
          35.968199999999996,
          38.95856,
          35.532959999999996,
          30.795199999999998,
          22.836,
          17.83276,
          14.681799999999999,
          12.42224,
          11.12572,
          9.4552,
          8.88752,
          8.860959999999999,
          9.296679999999999,
          10.22172,
          11.454799999999999,
          12.70616,
          15.2972,
          23.324240000000003,
          0,
          0,
          0,
          0,
          0,
          0,
          -5.95424,
          -4.185199999999999,
          -3.5461600000000004,
          -3.2648,
          -2.83972,
          -2.6906799999999995,
          -2.51096,
          -2.7235200000000006,
          -2.6772000000000005,
          -3.3077199999999998,
          -3.3322400000000005,
          -3.6637999999999984,
          -4.338759999999999,
          -5.388,
          -6.523199999999999,
          -7.100959999999999,
          -7.1445599999999985,
          -7.132199999999997,
          -6.703240000000003,
          -6.69068,
          -8.17272,
          -9.183799999999998,
          7.647759999999998,
          -14.288440000000001,
          -7.158320000000003,
          -7.813040000000001,
          -18.215440000000008,
          29.40204,
          3.2240000000000038,
          13.699400000000011,
          -19.39548,
          111.28772000000001,
          -9.863359999999986,
          144.86564,
          -12.06732000000001,
          160.00444,
          33.81700000000001,
          321.96948000000003,
          170.59544,
          329.30584,
          294.55268,
          537.90604,
          682.41776,
          408.5439600000001,
          679.95392,
          787.94204,
          767.66004,
          800.1462,
          922.4171200000001,
          1144.16164,
          869.46276,
          1438.25732,
          882.13712,
          1425.6199199999999,
          1190.0919199999998,
          1177.98952,
          1164.9237600000001,
          1457.22532,
          962.15692,
          1059.21456,
          910.2345999999999,
          862.462,
          791.9939199999999,
          656.50076,
          760.20724,
          562.94408,
          534.7724,
          348.53264,
          486.34132,
          244.97208,
          283.72472000000005,
          153.35127999999997,
          118.59464000000001,
          105.4652,
          47.89732000000001,
          67.08648,
          -13.910960000000003,
          11.008080000000007,
          0.6599999999999966,
          -12.837679999999999,
          -12.418319999999998,
          164.85451999999998
         ]
        },
        {
         "line": {
          "color": "green"
         },
         "mode": "lines",
         "name": "Actual Incidences",
         "type": "scatter",
         "x": [
          0,
          1,
          2,
          3,
          4,
          5,
          6,
          7,
          8,
          9,
          10,
          11,
          12,
          13,
          14,
          15,
          16,
          17,
          18,
          19,
          20,
          21,
          22,
          23,
          24,
          25,
          26,
          27,
          28,
          29,
          30,
          31,
          32,
          33,
          34,
          35,
          36,
          37,
          38,
          39,
          40,
          41,
          42,
          43,
          44,
          45,
          46,
          47,
          48,
          49,
          50,
          51,
          52,
          53,
          54,
          55,
          56,
          57,
          58,
          59,
          60,
          61,
          62,
          63,
          64,
          65,
          66,
          67,
          68,
          69,
          70,
          71,
          72,
          73,
          74,
          75,
          76,
          77,
          78,
          79,
          80,
          81,
          82,
          83,
          84
         ],
         "y": [
          0,
          0,
          142,
          158,
          75,
          144,
          98,
          129,
          248,
          313,
          248,
          401,
          350,
          516,
          529,
          718,
          622,
          974,
          679,
          1117,
          1039,
          885,
          866,
          1524,
          1502,
          1596,
          1208,
          1267,
          1104,
          1200,
          1318,
          1002,
          1225,
          828,
          881,
          701,
          565,
          681,
          555,
          389,
          295,
          281,
          248,
          276,
          158,
          111,
          97,
          82,
          95,
          50,
          56,
          38,
          40,
          29,
          19,
          14,
          12,
          13,
          20,
          8,
          11,
          7,
          3,
          6,
          0,
          1,
          5,
          0,
          1,
          1,
          0,
          1,
          0,
          0,
          0,
          0,
          0,
          0,
          0,
          0,
          0,
          0,
          2,
          0,
          0
         ]
        }
       ],
       "layout": {
        "template": {
         "data": {
          "bar": [
           {
            "error_x": {
             "color": "#2a3f5f"
            },
            "error_y": {
             "color": "#2a3f5f"
            },
            "marker": {
             "line": {
              "color": "#E5ECF6",
              "width": 0.5
             },
             "pattern": {
              "fillmode": "overlay",
              "size": 10,
              "solidity": 0.2
             }
            },
            "type": "bar"
           }
          ],
          "barpolar": [
           {
            "marker": {
             "line": {
              "color": "#E5ECF6",
              "width": 0.5
             },
             "pattern": {
              "fillmode": "overlay",
              "size": 10,
              "solidity": 0.2
             }
            },
            "type": "barpolar"
           }
          ],
          "carpet": [
           {
            "aaxis": {
             "endlinecolor": "#2a3f5f",
             "gridcolor": "white",
             "linecolor": "white",
             "minorgridcolor": "white",
             "startlinecolor": "#2a3f5f"
            },
            "baxis": {
             "endlinecolor": "#2a3f5f",
             "gridcolor": "white",
             "linecolor": "white",
             "minorgridcolor": "white",
             "startlinecolor": "#2a3f5f"
            },
            "type": "carpet"
           }
          ],
          "choropleth": [
           {
            "colorbar": {
             "outlinewidth": 0,
             "ticks": ""
            },
            "type": "choropleth"
           }
          ],
          "contour": [
           {
            "colorbar": {
             "outlinewidth": 0,
             "ticks": ""
            },
            "colorscale": [
             [
              0,
              "#0d0887"
             ],
             [
              0.1111111111111111,
              "#46039f"
             ],
             [
              0.2222222222222222,
              "#7201a8"
             ],
             [
              0.3333333333333333,
              "#9c179e"
             ],
             [
              0.4444444444444444,
              "#bd3786"
             ],
             [
              0.5555555555555556,
              "#d8576b"
             ],
             [
              0.6666666666666666,
              "#ed7953"
             ],
             [
              0.7777777777777778,
              "#fb9f3a"
             ],
             [
              0.8888888888888888,
              "#fdca26"
             ],
             [
              1,
              "#f0f921"
             ]
            ],
            "type": "contour"
           }
          ],
          "contourcarpet": [
           {
            "colorbar": {
             "outlinewidth": 0,
             "ticks": ""
            },
            "type": "contourcarpet"
           }
          ],
          "heatmap": [
           {
            "colorbar": {
             "outlinewidth": 0,
             "ticks": ""
            },
            "colorscale": [
             [
              0,
              "#0d0887"
             ],
             [
              0.1111111111111111,
              "#46039f"
             ],
             [
              0.2222222222222222,
              "#7201a8"
             ],
             [
              0.3333333333333333,
              "#9c179e"
             ],
             [
              0.4444444444444444,
              "#bd3786"
             ],
             [
              0.5555555555555556,
              "#d8576b"
             ],
             [
              0.6666666666666666,
              "#ed7953"
             ],
             [
              0.7777777777777778,
              "#fb9f3a"
             ],
             [
              0.8888888888888888,
              "#fdca26"
             ],
             [
              1,
              "#f0f921"
             ]
            ],
            "type": "heatmap"
           }
          ],
          "heatmapgl": [
           {
            "colorbar": {
             "outlinewidth": 0,
             "ticks": ""
            },
            "colorscale": [
             [
              0,
              "#0d0887"
             ],
             [
              0.1111111111111111,
              "#46039f"
             ],
             [
              0.2222222222222222,
              "#7201a8"
             ],
             [
              0.3333333333333333,
              "#9c179e"
             ],
             [
              0.4444444444444444,
              "#bd3786"
             ],
             [
              0.5555555555555556,
              "#d8576b"
             ],
             [
              0.6666666666666666,
              "#ed7953"
             ],
             [
              0.7777777777777778,
              "#fb9f3a"
             ],
             [
              0.8888888888888888,
              "#fdca26"
             ],
             [
              1,
              "#f0f921"
             ]
            ],
            "type": "heatmapgl"
           }
          ],
          "histogram": [
           {
            "marker": {
             "pattern": {
              "fillmode": "overlay",
              "size": 10,
              "solidity": 0.2
             }
            },
            "type": "histogram"
           }
          ],
          "histogram2d": [
           {
            "colorbar": {
             "outlinewidth": 0,
             "ticks": ""
            },
            "colorscale": [
             [
              0,
              "#0d0887"
             ],
             [
              0.1111111111111111,
              "#46039f"
             ],
             [
              0.2222222222222222,
              "#7201a8"
             ],
             [
              0.3333333333333333,
              "#9c179e"
             ],
             [
              0.4444444444444444,
              "#bd3786"
             ],
             [
              0.5555555555555556,
              "#d8576b"
             ],
             [
              0.6666666666666666,
              "#ed7953"
             ],
             [
              0.7777777777777778,
              "#fb9f3a"
             ],
             [
              0.8888888888888888,
              "#fdca26"
             ],
             [
              1,
              "#f0f921"
             ]
            ],
            "type": "histogram2d"
           }
          ],
          "histogram2dcontour": [
           {
            "colorbar": {
             "outlinewidth": 0,
             "ticks": ""
            },
            "colorscale": [
             [
              0,
              "#0d0887"
             ],
             [
              0.1111111111111111,
              "#46039f"
             ],
             [
              0.2222222222222222,
              "#7201a8"
             ],
             [
              0.3333333333333333,
              "#9c179e"
             ],
             [
              0.4444444444444444,
              "#bd3786"
             ],
             [
              0.5555555555555556,
              "#d8576b"
             ],
             [
              0.6666666666666666,
              "#ed7953"
             ],
             [
              0.7777777777777778,
              "#fb9f3a"
             ],
             [
              0.8888888888888888,
              "#fdca26"
             ],
             [
              1,
              "#f0f921"
             ]
            ],
            "type": "histogram2dcontour"
           }
          ],
          "mesh3d": [
           {
            "colorbar": {
             "outlinewidth": 0,
             "ticks": ""
            },
            "type": "mesh3d"
           }
          ],
          "parcoords": [
           {
            "line": {
             "colorbar": {
              "outlinewidth": 0,
              "ticks": ""
             }
            },
            "type": "parcoords"
           }
          ],
          "pie": [
           {
            "automargin": true,
            "type": "pie"
           }
          ],
          "scatter": [
           {
            "fillpattern": {
             "fillmode": "overlay",
             "size": 10,
             "solidity": 0.2
            },
            "type": "scatter"
           }
          ],
          "scatter3d": [
           {
            "line": {
             "colorbar": {
              "outlinewidth": 0,
              "ticks": ""
             }
            },
            "marker": {
             "colorbar": {
              "outlinewidth": 0,
              "ticks": ""
             }
            },
            "type": "scatter3d"
           }
          ],
          "scattercarpet": [
           {
            "marker": {
             "colorbar": {
              "outlinewidth": 0,
              "ticks": ""
             }
            },
            "type": "scattercarpet"
           }
          ],
          "scattergeo": [
           {
            "marker": {
             "colorbar": {
              "outlinewidth": 0,
              "ticks": ""
             }
            },
            "type": "scattergeo"
           }
          ],
          "scattergl": [
           {
            "marker": {
             "colorbar": {
              "outlinewidth": 0,
              "ticks": ""
             }
            },
            "type": "scattergl"
           }
          ],
          "scattermapbox": [
           {
            "marker": {
             "colorbar": {
              "outlinewidth": 0,
              "ticks": ""
             }
            },
            "type": "scattermapbox"
           }
          ],
          "scatterpolar": [
           {
            "marker": {
             "colorbar": {
              "outlinewidth": 0,
              "ticks": ""
             }
            },
            "type": "scatterpolar"
           }
          ],
          "scatterpolargl": [
           {
            "marker": {
             "colorbar": {
              "outlinewidth": 0,
              "ticks": ""
             }
            },
            "type": "scatterpolargl"
           }
          ],
          "scatterternary": [
           {
            "marker": {
             "colorbar": {
              "outlinewidth": 0,
              "ticks": ""
             }
            },
            "type": "scatterternary"
           }
          ],
          "surface": [
           {
            "colorbar": {
             "outlinewidth": 0,
             "ticks": ""
            },
            "colorscale": [
             [
              0,
              "#0d0887"
             ],
             [
              0.1111111111111111,
              "#46039f"
             ],
             [
              0.2222222222222222,
              "#7201a8"
             ],
             [
              0.3333333333333333,
              "#9c179e"
             ],
             [
              0.4444444444444444,
              "#bd3786"
             ],
             [
              0.5555555555555556,
              "#d8576b"
             ],
             [
              0.6666666666666666,
              "#ed7953"
             ],
             [
              0.7777777777777778,
              "#fb9f3a"
             ],
             [
              0.8888888888888888,
              "#fdca26"
             ],
             [
              1,
              "#f0f921"
             ]
            ],
            "type": "surface"
           }
          ],
          "table": [
           {
            "cells": {
             "fill": {
              "color": "#EBF0F8"
             },
             "line": {
              "color": "white"
             }
            },
            "header": {
             "fill": {
              "color": "#C8D4E3"
             },
             "line": {
              "color": "white"
             }
            },
            "type": "table"
           }
          ]
         },
         "layout": {
          "annotationdefaults": {
           "arrowcolor": "#2a3f5f",
           "arrowhead": 0,
           "arrowwidth": 1
          },
          "autotypenumbers": "strict",
          "coloraxis": {
           "colorbar": {
            "outlinewidth": 0,
            "ticks": ""
           }
          },
          "colorscale": {
           "diverging": [
            [
             0,
             "#8e0152"
            ],
            [
             0.1,
             "#c51b7d"
            ],
            [
             0.2,
             "#de77ae"
            ],
            [
             0.3,
             "#f1b6da"
            ],
            [
             0.4,
             "#fde0ef"
            ],
            [
             0.5,
             "#f7f7f7"
            ],
            [
             0.6,
             "#e6f5d0"
            ],
            [
             0.7,
             "#b8e186"
            ],
            [
             0.8,
             "#7fbc41"
            ],
            [
             0.9,
             "#4d9221"
            ],
            [
             1,
             "#276419"
            ]
           ],
           "sequential": [
            [
             0,
             "#0d0887"
            ],
            [
             0.1111111111111111,
             "#46039f"
            ],
            [
             0.2222222222222222,
             "#7201a8"
            ],
            [
             0.3333333333333333,
             "#9c179e"
            ],
            [
             0.4444444444444444,
             "#bd3786"
            ],
            [
             0.5555555555555556,
             "#d8576b"
            ],
            [
             0.6666666666666666,
             "#ed7953"
            ],
            [
             0.7777777777777778,
             "#fb9f3a"
            ],
            [
             0.8888888888888888,
             "#fdca26"
            ],
            [
             1,
             "#f0f921"
            ]
           ],
           "sequentialminus": [
            [
             0,
             "#0d0887"
            ],
            [
             0.1111111111111111,
             "#46039f"
            ],
            [
             0.2222222222222222,
             "#7201a8"
            ],
            [
             0.3333333333333333,
             "#9c179e"
            ],
            [
             0.4444444444444444,
             "#bd3786"
            ],
            [
             0.5555555555555556,
             "#d8576b"
            ],
            [
             0.6666666666666666,
             "#ed7953"
            ],
            [
             0.7777777777777778,
             "#fb9f3a"
            ],
            [
             0.8888888888888888,
             "#fdca26"
            ],
            [
             1,
             "#f0f921"
            ]
           ]
          },
          "colorway": [
           "#636efa",
           "#EF553B",
           "#00cc96",
           "#ab63fa",
           "#FFA15A",
           "#19d3f3",
           "#FF6692",
           "#B6E880",
           "#FF97FF",
           "#FECB52"
          ],
          "font": {
           "color": "#2a3f5f"
          },
          "geo": {
           "bgcolor": "white",
           "lakecolor": "white",
           "landcolor": "#E5ECF6",
           "showlakes": true,
           "showland": true,
           "subunitcolor": "white"
          },
          "hoverlabel": {
           "align": "left"
          },
          "hovermode": "closest",
          "mapbox": {
           "style": "light"
          },
          "paper_bgcolor": "white",
          "plot_bgcolor": "#E5ECF6",
          "polar": {
           "angularaxis": {
            "gridcolor": "white",
            "linecolor": "white",
            "ticks": ""
           },
           "bgcolor": "#E5ECF6",
           "radialaxis": {
            "gridcolor": "white",
            "linecolor": "white",
            "ticks": ""
           }
          },
          "scene": {
           "xaxis": {
            "backgroundcolor": "#E5ECF6",
            "gridcolor": "white",
            "gridwidth": 2,
            "linecolor": "white",
            "showbackground": true,
            "ticks": "",
            "zerolinecolor": "white"
           },
           "yaxis": {
            "backgroundcolor": "#E5ECF6",
            "gridcolor": "white",
            "gridwidth": 2,
            "linecolor": "white",
            "showbackground": true,
            "ticks": "",
            "zerolinecolor": "white"
           },
           "zaxis": {
            "backgroundcolor": "#E5ECF6",
            "gridcolor": "white",
            "gridwidth": 2,
            "linecolor": "white",
            "showbackground": true,
            "ticks": "",
            "zerolinecolor": "white"
           }
          },
          "shapedefaults": {
           "line": {
            "color": "#2a3f5f"
           }
          },
          "ternary": {
           "aaxis": {
            "gridcolor": "white",
            "linecolor": "white",
            "ticks": ""
           },
           "baxis": {
            "gridcolor": "white",
            "linecolor": "white",
            "ticks": ""
           },
           "bgcolor": "#E5ECF6",
           "caxis": {
            "gridcolor": "white",
            "linecolor": "white",
            "ticks": ""
           }
          },
          "title": {
           "x": 0.05
          },
          "xaxis": {
           "automargin": true,
           "gridcolor": "white",
           "linecolor": "white",
           "ticks": "",
           "title": {
            "standoff": 15
           },
           "zerolinecolor": "white",
           "zerolinewidth": 2
          },
          "yaxis": {
           "automargin": true,
           "gridcolor": "white",
           "linecolor": "white",
           "ticks": "",
           "title": {
            "standoff": 15
           },
           "zerolinecolor": "white",
           "zerolinewidth": 2
          }
         }
        }
       }
      }
     },
     "metadata": {},
     "output_type": "display_data"
    }
   ],
   "source": [
    "pre_I = np.array(list(df['mean'].values[:-1]) + kernel)\n",
    "pre_std = np.array(list(df['sd'].values[:-1]) + kernel)\n",
    "\n",
    "figure = go.Figure()\n",
    "\n",
    "trace1 = go.Scatter(\n",
    "    y=pre_I,\n",
    "    x=list(range(starting_time_point, end_time_point)),\n",
    "    mode='lines',\n",
    "    name='Estimated Incidences',\n",
    "    line_color='indigo'\n",
    ")\n",
    "\n",
    "trace2 = go.Scatter(\n",
    "    x=list(range(starting_time_point, end_time_point)) + list(range(starting_time_point, end_time_point))[::-1],\n",
    "    y=(pre_I + 1.96 * pre_std).tolist() + (pre_I - 1.96 * pre_std).tolist()[::-1],\n",
    "    fill='toself',\n",
    "    fillcolor='indigo',\n",
    "    line_color='indigo',\n",
    "    opacity=0.5,\n",
    "    mode='lines',\n",
    "    name='Credible interval 0.95',\n",
    ")\n",
    "\n",
    "trace3 = go.Scatter(\n",
    "    y=incidences_true,\n",
    "    x=list(range(starting_time_point, end_time_point)),\n",
    "    mode='lines',\n",
    "    name='Actual Incidences',\n",
    "    line_color='green'\n",
    ")\n",
    "\n",
    "figure.add_trace(trace1)\n",
    "figure.add_trace(trace2)\n",
    "figure.add_trace(trace3)"
   ]
  },
  {
   "cell_type": "code",
   "execution_count": 5,
   "metadata": {},
   "outputs": [
    {
     "data": {
      "text/plain": [
       "array([0.000e+00, 0.000e+00, 1.420e+02, 1.580e+02, 7.500e+01, 1.440e+02,\n",
       "       9.800e+01, 1.290e+02, 2.480e+02, 3.130e+02, 2.480e+02, 4.010e+02,\n",
       "       3.500e+02, 5.160e+02, 5.290e+02, 7.180e+02, 6.220e+02, 9.740e+02,\n",
       "       6.790e+02, 1.117e+03, 1.039e+03, 8.850e+02, 8.660e+02, 1.524e+03,\n",
       "       1.502e+03, 1.596e+03, 1.208e+03, 1.267e+03, 1.104e+03, 1.200e+03,\n",
       "       1.318e+03, 1.002e+03, 1.225e+03, 8.280e+02, 8.810e+02, 7.010e+02,\n",
       "       5.650e+02, 6.810e+02, 5.550e+02, 3.890e+02, 2.950e+02, 2.810e+02,\n",
       "       2.480e+02, 2.760e+02, 1.580e+02, 1.110e+02, 9.700e+01, 8.200e+01,\n",
       "       9.500e+01, 5.000e+01, 5.600e+01, 3.800e+01, 4.000e+01, 2.900e+01,\n",
       "       1.900e+01, 1.400e+01, 1.200e+01, 1.300e+01, 2.000e+01, 8.000e+00,\n",
       "       1.100e+01, 7.000e+00, 3.000e+00, 6.000e+00, 0.000e+00, 1.000e+00,\n",
       "       5.000e+00, 0.000e+00, 1.000e+00, 1.000e+00, 0.000e+00, 1.000e+00,\n",
       "       0.000e+00, 0.000e+00, 0.000e+00, 0.000e+00, 0.000e+00, 0.000e+00,\n",
       "       0.000e+00, 0.000e+00, 0.000e+00, 0.000e+00, 2.000e+00, 0.000e+00,\n",
       "       0.000e+00])"
      ]
     },
     "execution_count": 5,
     "metadata": {},
     "output_type": "execute_result"
    }
   ],
   "source": [
    "incidences_true"
   ]
  },
  {
   "cell_type": "markdown",
   "metadata": {},
   "source": [
    "Problems: How to deal with the value of I[0]? There have to be some initial patients, the model will still generate an estimate of the inital \"true\" infection based on the model. What about just manually set that value to 0 or leave it there for users to interpret that?\n",
    "\n",
    "Idea: May redefine the model, add a 'I[-1]' to deal with the initial patients?"
   ]
  },
  {
   "cell_type": "markdown",
   "metadata": {},
   "source": [
    "## Predict $R_t$"
   ]
  },
  {
   "cell_type": "code",
   "execution_count": 23,
   "metadata": {},
   "outputs": [],
   "source": [
    "# Define variables needed for calculating R_t\n",
    "tau = 6\n",
    "R_t_start = tau+1\n",
    "a = 1\n",
    "b = 1/5\n",
    "\n",
    "ws_mean = 4\n",
    "ws_var = 3**2\n",
    "theta_num = ws_var / ws_mean\n",
    "k = ws_mean / theta_num\n",
    "w_dist = scipy.stats.gamma(k, scale=theta_num)\n",
    "disc_w = w_dist.pdf(range(len(theta)))\n",
    "serial_interval = disc_w"
   ]
  },
  {
   "cell_type": "code",
   "execution_count": 41,
   "metadata": {},
   "outputs": [
    {
     "ename": "ValueError",
     "evalue": "All arrays must be of the same length",
     "output_type": "error",
     "traceback": [
      "\u001b[0;31m---------------------------------------------------------------------------\u001b[0m",
      "\u001b[0;31mValueError\u001b[0m                                Traceback (most recent call last)",
      "Cell \u001b[0;32mIn[41], line 3\u001b[0m\n\u001b[1;32m      1\u001b[0m \u001b[38;5;66;03m# Plot comparison between the true and predicted R_t\u001b[39;00m\n\u001b[1;32m      2\u001b[0m \u001b[38;5;66;03m# Transform our incidence data into pandas dataframes\u001b[39;00m\n\u001b[0;32m----> 3\u001b[0m inc_data \u001b[38;5;241m=\u001b[39m \u001b[43mpd\u001b[49m\u001b[38;5;241;43m.\u001b[39;49m\u001b[43mDataFrame\u001b[49m\u001b[43m(\u001b[49m\n\u001b[1;32m      4\u001b[0m \u001b[43m    \u001b[49m\u001b[43m{\u001b[49m\n\u001b[1;32m      5\u001b[0m \u001b[43m        \u001b[49m\u001b[38;5;124;43m'\u001b[39;49m\u001b[38;5;124;43mTime\u001b[39;49m\u001b[38;5;124;43m'\u001b[39;49m\u001b[43m:\u001b[49m\u001b[43m \u001b[49m\u001b[43mnp\u001b[49m\u001b[38;5;241;43m.\u001b[39;49m\u001b[43marange\u001b[49m\u001b[43m(\u001b[49m\u001b[38;5;28;43mlen\u001b[39;49m\u001b[43m(\u001b[49m\u001b[43mtheta\u001b[49m\u001b[43m)\u001b[49m\u001b[43m)\u001b[49m\u001b[43m,\u001b[49m\n\u001b[1;32m      6\u001b[0m \u001b[43m        \u001b[49m\u001b[38;5;124;43m'\u001b[39;49m\u001b[38;5;124;43mIncidence Number\u001b[39;49m\u001b[38;5;124;43m'\u001b[39;49m\u001b[43m:\u001b[49m\u001b[43m \u001b[49m\u001b[43mpre_I\u001b[49m\n\u001b[1;32m      7\u001b[0m \u001b[43m    \u001b[49m\u001b[43m}\u001b[49m\n\u001b[1;32m      8\u001b[0m \u001b[43m)\u001b[49m\n\u001b[1;32m     10\u001b[0m inference \u001b[38;5;241m=\u001b[39m branchpro\u001b[38;5;241m.\u001b[39mBranchProPosterior(\n\u001b[1;32m     11\u001b[0m     inc_data\u001b[38;5;241m=\u001b[39minc_data,\n\u001b[1;32m     12\u001b[0m     daily_serial_interval\u001b[38;5;241m=\u001b[39mserial_interval,\n\u001b[1;32m     13\u001b[0m     alpha\u001b[38;5;241m=\u001b[39ma,\n\u001b[1;32m     14\u001b[0m     beta\u001b[38;5;241m=\u001b[39m\u001b[38;5;241m1\u001b[39m\u001b[38;5;241m/\u001b[39mb)\n\u001b[1;32m     16\u001b[0m inference\u001b[38;5;241m.\u001b[39mrun_inference(tau\u001b[38;5;241m=\u001b[39mtau)\n",
      "File \u001b[0;32m~/mambaforge/envs/limited-resources/lib/python3.11/site-packages/pandas/core/frame.py:664\u001b[0m, in \u001b[0;36mDataFrame.__init__\u001b[0;34m(self, data, index, columns, dtype, copy)\u001b[0m\n\u001b[1;32m    658\u001b[0m     mgr \u001b[38;5;241m=\u001b[39m \u001b[38;5;28mself\u001b[39m\u001b[38;5;241m.\u001b[39m_init_mgr(\n\u001b[1;32m    659\u001b[0m         data, axes\u001b[38;5;241m=\u001b[39m{\u001b[38;5;124m\"\u001b[39m\u001b[38;5;124mindex\u001b[39m\u001b[38;5;124m\"\u001b[39m: index, \u001b[38;5;124m\"\u001b[39m\u001b[38;5;124mcolumns\u001b[39m\u001b[38;5;124m\"\u001b[39m: columns}, dtype\u001b[38;5;241m=\u001b[39mdtype, copy\u001b[38;5;241m=\u001b[39mcopy\n\u001b[1;32m    660\u001b[0m     )\n\u001b[1;32m    662\u001b[0m \u001b[38;5;28;01melif\u001b[39;00m \u001b[38;5;28misinstance\u001b[39m(data, \u001b[38;5;28mdict\u001b[39m):\n\u001b[1;32m    663\u001b[0m     \u001b[38;5;66;03m# GH#38939 de facto copy defaults to False only in non-dict cases\u001b[39;00m\n\u001b[0;32m--> 664\u001b[0m     mgr \u001b[38;5;241m=\u001b[39m \u001b[43mdict_to_mgr\u001b[49m\u001b[43m(\u001b[49m\u001b[43mdata\u001b[49m\u001b[43m,\u001b[49m\u001b[43m \u001b[49m\u001b[43mindex\u001b[49m\u001b[43m,\u001b[49m\u001b[43m \u001b[49m\u001b[43mcolumns\u001b[49m\u001b[43m,\u001b[49m\u001b[43m \u001b[49m\u001b[43mdtype\u001b[49m\u001b[38;5;241;43m=\u001b[39;49m\u001b[43mdtype\u001b[49m\u001b[43m,\u001b[49m\u001b[43m \u001b[49m\u001b[43mcopy\u001b[49m\u001b[38;5;241;43m=\u001b[39;49m\u001b[43mcopy\u001b[49m\u001b[43m,\u001b[49m\u001b[43m \u001b[49m\u001b[43mtyp\u001b[49m\u001b[38;5;241;43m=\u001b[39;49m\u001b[43mmanager\u001b[49m\u001b[43m)\u001b[49m\n\u001b[1;32m    665\u001b[0m \u001b[38;5;28;01melif\u001b[39;00m \u001b[38;5;28misinstance\u001b[39m(data, ma\u001b[38;5;241m.\u001b[39mMaskedArray):\n\u001b[1;32m    666\u001b[0m     \u001b[38;5;28;01mimport\u001b[39;00m \u001b[38;5;21;01mnumpy\u001b[39;00m\u001b[38;5;21;01m.\u001b[39;00m\u001b[38;5;21;01mma\u001b[39;00m\u001b[38;5;21;01m.\u001b[39;00m\u001b[38;5;21;01mmrecords\u001b[39;00m \u001b[38;5;28;01mas\u001b[39;00m \u001b[38;5;21;01mmrecords\u001b[39;00m\n",
      "File \u001b[0;32m~/mambaforge/envs/limited-resources/lib/python3.11/site-packages/pandas/core/internals/construction.py:493\u001b[0m, in \u001b[0;36mdict_to_mgr\u001b[0;34m(data, index, columns, dtype, typ, copy)\u001b[0m\n\u001b[1;32m    489\u001b[0m     \u001b[38;5;28;01melse\u001b[39;00m:\n\u001b[1;32m    490\u001b[0m         \u001b[38;5;66;03m# dtype check to exclude e.g. range objects, scalars\u001b[39;00m\n\u001b[1;32m    491\u001b[0m         arrays \u001b[38;5;241m=\u001b[39m [x\u001b[38;5;241m.\u001b[39mcopy() \u001b[38;5;28;01mif\u001b[39;00m \u001b[38;5;28mhasattr\u001b[39m(x, \u001b[38;5;124m\"\u001b[39m\u001b[38;5;124mdtype\u001b[39m\u001b[38;5;124m\"\u001b[39m) \u001b[38;5;28;01melse\u001b[39;00m x \u001b[38;5;28;01mfor\u001b[39;00m x \u001b[38;5;129;01min\u001b[39;00m arrays]\n\u001b[0;32m--> 493\u001b[0m \u001b[38;5;28;01mreturn\u001b[39;00m \u001b[43marrays_to_mgr\u001b[49m\u001b[43m(\u001b[49m\u001b[43marrays\u001b[49m\u001b[43m,\u001b[49m\u001b[43m \u001b[49m\u001b[43mcolumns\u001b[49m\u001b[43m,\u001b[49m\u001b[43m \u001b[49m\u001b[43mindex\u001b[49m\u001b[43m,\u001b[49m\u001b[43m \u001b[49m\u001b[43mdtype\u001b[49m\u001b[38;5;241;43m=\u001b[39;49m\u001b[43mdtype\u001b[49m\u001b[43m,\u001b[49m\u001b[43m \u001b[49m\u001b[43mtyp\u001b[49m\u001b[38;5;241;43m=\u001b[39;49m\u001b[43mtyp\u001b[49m\u001b[43m,\u001b[49m\u001b[43m \u001b[49m\u001b[43mconsolidate\u001b[49m\u001b[38;5;241;43m=\u001b[39;49m\u001b[43mcopy\u001b[49m\u001b[43m)\u001b[49m\n",
      "File \u001b[0;32m~/mambaforge/envs/limited-resources/lib/python3.11/site-packages/pandas/core/internals/construction.py:118\u001b[0m, in \u001b[0;36marrays_to_mgr\u001b[0;34m(arrays, columns, index, dtype, verify_integrity, typ, consolidate)\u001b[0m\n\u001b[1;32m    115\u001b[0m \u001b[38;5;28;01mif\u001b[39;00m verify_integrity:\n\u001b[1;32m    116\u001b[0m     \u001b[38;5;66;03m# figure out the index, if necessary\u001b[39;00m\n\u001b[1;32m    117\u001b[0m     \u001b[38;5;28;01mif\u001b[39;00m index \u001b[38;5;129;01mis\u001b[39;00m \u001b[38;5;28;01mNone\u001b[39;00m:\n\u001b[0;32m--> 118\u001b[0m         index \u001b[38;5;241m=\u001b[39m \u001b[43m_extract_index\u001b[49m\u001b[43m(\u001b[49m\u001b[43marrays\u001b[49m\u001b[43m)\u001b[49m\n\u001b[1;32m    119\u001b[0m     \u001b[38;5;28;01melse\u001b[39;00m:\n\u001b[1;32m    120\u001b[0m         index \u001b[38;5;241m=\u001b[39m ensure_index(index)\n",
      "File \u001b[0;32m~/mambaforge/envs/limited-resources/lib/python3.11/site-packages/pandas/core/internals/construction.py:666\u001b[0m, in \u001b[0;36m_extract_index\u001b[0;34m(data)\u001b[0m\n\u001b[1;32m    664\u001b[0m lengths \u001b[38;5;241m=\u001b[39m \u001b[38;5;28mlist\u001b[39m(\u001b[38;5;28mset\u001b[39m(raw_lengths))\n\u001b[1;32m    665\u001b[0m \u001b[38;5;28;01mif\u001b[39;00m \u001b[38;5;28mlen\u001b[39m(lengths) \u001b[38;5;241m>\u001b[39m \u001b[38;5;241m1\u001b[39m:\n\u001b[0;32m--> 666\u001b[0m     \u001b[38;5;28;01mraise\u001b[39;00m \u001b[38;5;167;01mValueError\u001b[39;00m(\u001b[38;5;124m\"\u001b[39m\u001b[38;5;124mAll arrays must be of the same length\u001b[39m\u001b[38;5;124m\"\u001b[39m)\n\u001b[1;32m    668\u001b[0m \u001b[38;5;28;01mif\u001b[39;00m have_dicts:\n\u001b[1;32m    669\u001b[0m     \u001b[38;5;28;01mraise\u001b[39;00m \u001b[38;5;167;01mValueError\u001b[39;00m(\n\u001b[1;32m    670\u001b[0m         \u001b[38;5;124m\"\u001b[39m\u001b[38;5;124mMixing dicts with non-Series may lead to ambiguous ordering.\u001b[39m\u001b[38;5;124m\"\u001b[39m\n\u001b[1;32m    671\u001b[0m     )\n",
      "\u001b[0;31mValueError\u001b[0m: All arrays must be of the same length"
     ]
    }
   ],
   "source": [
    "# Plot comparison between the true and predicted R_t\n",
    "# Transform our incidence data into pandas dataframes\n",
    "inc_data = pd.DataFrame(\n",
    "    {\n",
    "        'Time': np.arange(len(theta)),\n",
    "        'Incidence Number': pre_I\n",
    "    }\n",
    ")\n",
    "\n",
    "inference = branchpro.BranchProPosterior(\n",
    "    inc_data=inc_data,\n",
    "    daily_serial_interval=serial_interval,\n",
    "    alpha=a,\n",
    "    beta=1/b)\n",
    "\n",
    "inference.run_inference(tau=tau)\n",
    "intervals = inference.get_intervals(central_prob=.95)\n",
    "\n",
    "# Transform our true incidence data into pandas dataframes\n",
    "inc_data_true = pd.DataFrame(\n",
    "    {\n",
    "        'Time': np.arange(len(theta)),\n",
    "        'Incidence Number': incidences_true[:len(theta)]\n",
    "    }\n",
    ")\n",
    "\n",
    "inference_true = branchpro.BranchProPosterior(\n",
    "    inc_data=inc_data_true,\n",
    "    daily_serial_interval=serial_interval,\n",
    "    alpha=a,\n",
    "    beta=1/b)\n",
    "\n",
    "inference_true.run_inference(tau=tau)\n",
    "intervals_true = inference_true.get_intervals(central_prob=.95)\n",
    "\n",
    "fig = ReproductionNumberPlot()\n",
    "\n",
    "fig.add_interval_true_rt(intervals_true)\n",
    "fig.add_interval_rt(intervals)\n",
    "\n",
    "fig.update_labels(time_label='Time (Day)', r_label='R_t')\n",
    "\n",
    "fig.show_figure()"
   ]
  },
  {
   "cell_type": "markdown",
   "metadata": {},
   "source": [
    "To do list: Write a SnakeMake file to install PyStan on Apple Silicon"
   ]
  }
 ],
 "metadata": {
  "kernelspec": {
   "display_name": "limited-resources",
   "language": "python",
   "name": "python3"
  },
  "language_info": {
   "codemirror_mode": {
    "name": "ipython",
    "version": 3
   },
   "file_extension": ".py",
   "mimetype": "text/x-python",
   "name": "python",
   "nbconvert_exporter": "python",
   "pygments_lexer": "ipython3",
   "version": "3.11.8"
  }
 },
 "nbformat": 4,
 "nbformat_minor": 2
}
